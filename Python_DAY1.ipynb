{
  "nbformat": 4,
  "nbformat_minor": 0,
  "metadata": {
    "colab": {
      "provenance": []
    },
    "kernelspec": {
      "name": "python3",
      "display_name": "Python 3"
    },
    "language_info": {
      "name": "python"
    }
  },
  "cells": [
    {
      "cell_type": "markdown",
      "source": [
        "# PYTHON\n"
      ],
      "metadata": {
        "id": "m-zquOUnxvPI"
      }
    },
    {
      "cell_type": "markdown",
      "source": [
        "#print Function\n"
      ],
      "metadata": {
        "id": "j92lKl9mx96p"
      }
    },
    {
      "cell_type": "code",
      "source": [
        "print(\"Today I am learning python\")"
      ],
      "metadata": {
        "colab": {
          "base_uri": "https://localhost:8080/"
        },
        "id": "8XpN8I2oyNI9",
        "outputId": "b01bc2ac-5a02-466c-a112-de44380870f7"
      },
      "execution_count": null,
      "outputs": [
        {
          "output_type": "stream",
          "name": "stdout",
          "text": [
            "Today I am learning python\n"
          ]
        }
      ]
    },
    {
      "cell_type": "code",
      "source": [
        "a=\"Shivani\"\n",
        "b=\"Dashore\"\n",
        "c=\"I am a Data Analyst\"\n",
        "print(\"My name is \",a,b, c)"
      ],
      "metadata": {
        "colab": {
          "base_uri": "https://localhost:8080/"
        },
        "id": "HWTrlTNpyimH",
        "outputId": "87d84651-8f14-4427-c2c8-e89e9a1e6c7f"
      },
      "execution_count": null,
      "outputs": [
        {
          "output_type": "stream",
          "name": "stdout",
          "text": [
            "My name is  Shivani Dashore I am a Data Analyst\n"
          ]
        }
      ]
    },
    {
      "cell_type": "code",
      "source": [
        "print(\"Shivani has done Python PowerBi Data visualization SQL\",\"And I very excited to become a DA\",sep='-')"
      ],
      "metadata": {
        "colab": {
          "base_uri": "https://localhost:8080/"
        },
        "id": "Tv4WTTuizhJq",
        "outputId": "7b77959e-dffe-41b7-cea6-66912e225be7"
      },
      "execution_count": null,
      "outputs": [
        {
          "output_type": "stream",
          "name": "stdout",
          "text": [
            "Shivani has done Python PowerBi Data visualization SQL-And I very excited to become a DA\n"
          ]
        }
      ]
    },
    {
      "cell_type": "code",
      "source": [
        "print(\"shivani\",end=' ')\n",
        "print(\"dashore\")"
      ],
      "metadata": {
        "colab": {
          "base_uri": "https://localhost:8080/"
        },
        "id": "F4c9M_ptzhNN",
        "outputId": "79a8dfd9-6d00-49e7-f8ce-d205acbc0081"
      },
      "execution_count": null,
      "outputs": [
        {
          "output_type": "stream",
          "name": "stdout",
          "text": [
            "shivani dashore\n"
          ]
        }
      ]
    },
    {
      "cell_type": "markdown",
      "source": [
        "# Variables in python"
      ],
      "metadata": {
        "id": "LkFEuEiY6hzg"
      }
    },
    {
      "cell_type": "code",
      "source": [
        "a=3\n",
        "print('This is an integer value',a)\n",
        "b=10.3\n",
        "print('This is a float value',b)\n",
        "c=True\n",
        "print('This is a boolean value',c)\n",
        "d='Shivani'\n",
        "print(d)"
      ],
      "metadata": {
        "colab": {
          "base_uri": "https://localhost:8080/"
        },
        "id": "dZS86jAg6tcy",
        "outputId": "b18e637c-db64-45d6-c7b8-f0093e9592cd"
      },
      "execution_count": null,
      "outputs": [
        {
          "output_type": "stream",
          "name": "stdout",
          "text": [
            "This is an integer value 3\n",
            "This is a float value 10.3\n",
            "This is a boolean value True\n",
            "Shivani\n"
          ]
        }
      ]
    },
    {
      "cell_type": "code",
      "source": [
        "a,b=7,4.5\n",
        "print(a,b)"
      ],
      "metadata": {
        "colab": {
          "base_uri": "https://localhost:8080/"
        },
        "id": "gvE-cO0G0r18",
        "outputId": "26917eda-1820-45cc-90a4-4bab7c7c5d08"
      },
      "execution_count": null,
      "outputs": [
        {
          "output_type": "stream",
          "name": "stdout",
          "text": [
            "7 4.5\n"
          ]
        }
      ]
    },
    {
      "cell_type": "code",
      "source": [
        "a,b,c=2,3.4\n",
        "print(a,b,c)"
      ],
      "metadata": {
        "colab": {
          "base_uri": "https://localhost:8080/",
          "height": 183
        },
        "id": "BDTQYu4r7dCy",
        "outputId": "8c8c08b7-3d5e-4aa5-c2aa-e27ca4116e81"
      },
      "execution_count": null,
      "outputs": [
        {
          "output_type": "error",
          "ename": "ValueError",
          "evalue": "ignored",
          "traceback": [
            "\u001b[0;31m---------------------------------------------------------------------------\u001b[0m",
            "\u001b[0;31mValueError\u001b[0m                                Traceback (most recent call last)",
            "\u001b[0;32m<ipython-input-20-ea2b99ccd6ee>\u001b[0m in \u001b[0;36m<cell line: 1>\u001b[0;34m()\u001b[0m\n\u001b[0;32m----> 1\u001b[0;31m \u001b[0ma\u001b[0m\u001b[0;34m,\u001b[0m\u001b[0mb\u001b[0m\u001b[0;34m,\u001b[0m\u001b[0mc\u001b[0m\u001b[0;34m=\u001b[0m\u001b[0;36m2\u001b[0m\u001b[0;34m,\u001b[0m\u001b[0;36m3.4\u001b[0m\u001b[0;34m\u001b[0m\u001b[0;34m\u001b[0m\u001b[0m\n\u001b[0m\u001b[1;32m      2\u001b[0m \u001b[0mprint\u001b[0m\u001b[0;34m(\u001b[0m\u001b[0ma\u001b[0m\u001b[0;34m,\u001b[0m\u001b[0mb\u001b[0m\u001b[0;34m,\u001b[0m\u001b[0mc\u001b[0m\u001b[0;34m)\u001b[0m\u001b[0;34m\u001b[0m\u001b[0;34m\u001b[0m\u001b[0m\n",
            "\u001b[0;31mValueError\u001b[0m: not enough values to unpack (expected 3, got 2)"
          ]
        }
      ]
    },
    {
      "cell_type": "code",
      "source": [
        "a,b=\"Shivani\",2,4.5"
      ],
      "metadata": {
        "colab": {
          "base_uri": "https://localhost:8080/",
          "height": 166
        },
        "id": "dQBOm2Nb7dNO",
        "outputId": "00fb3760-b3fd-458c-e836-06a23db86bad"
      },
      "execution_count": null,
      "outputs": [
        {
          "output_type": "error",
          "ename": "ValueError",
          "evalue": "ignored",
          "traceback": [
            "\u001b[0;31m---------------------------------------------------------------------------\u001b[0m",
            "\u001b[0;31mValueError\u001b[0m                                Traceback (most recent call last)",
            "\u001b[0;32m<ipython-input-21-ee8bdbcf8d65>\u001b[0m in \u001b[0;36m<cell line: 1>\u001b[0;34m()\u001b[0m\n\u001b[0;32m----> 1\u001b[0;31m \u001b[0ma\u001b[0m\u001b[0;34m,\u001b[0m\u001b[0mb\u001b[0m\u001b[0;34m=\u001b[0m\u001b[0;34m\"Shivani\"\u001b[0m\u001b[0;34m,\u001b[0m\u001b[0;36m2\u001b[0m\u001b[0;34m,\u001b[0m\u001b[0;36m4.5\u001b[0m\u001b[0;34m\u001b[0m\u001b[0;34m\u001b[0m\u001b[0m\n\u001b[0m",
            "\u001b[0;31mValueError\u001b[0m: too many values to unpack (expected 2)"
          ]
        }
      ]
    },
    {
      "cell_type": "code",
      "source": [
        "a=4\n",
        "b=4.5\n",
        "c=a*b\n",
        "print(c)"
      ],
      "metadata": {
        "colab": {
          "base_uri": "https://localhost:8080/"
        },
        "id": "zRD8ZWPx8G11",
        "outputId": "39231d1b-1580-4e02-c05e-318e49846eb6"
      },
      "execution_count": null,
      "outputs": [
        {
          "output_type": "stream",
          "name": "stdout",
          "text": [
            "18.0\n"
          ]
        }
      ]
    },
    {
      "cell_type": "code",
      "source": [
        "a=\"shivani\"\n",
        "b=\"suraj\"\n",
        "print(a+\" \"+b)"
      ],
      "metadata": {
        "colab": {
          "base_uri": "https://localhost:8080/"
        },
        "id": "VJ6Cvd5t8gJB",
        "outputId": "c194c979-7206-4348-99e7-2e0eadfb901f"
      },
      "execution_count": null,
      "outputs": [
        {
          "output_type": "stream",
          "name": "stdout",
          "text": [
            "shivani suraj\n"
          ]
        }
      ]
    },
    {
      "cell_type": "code",
      "source": [
        "a=2\n",
        "b=\"Shivani\"\n",
        "print(a+b)"
      ],
      "metadata": {
        "colab": {
          "base_uri": "https://localhost:8080/",
          "height": 200
        },
        "id": "8iaCD0b882Rv",
        "outputId": "2b8f4ab5-cf0c-4928-c285-7dfedb266be5"
      },
      "execution_count": null,
      "outputs": [
        {
          "output_type": "error",
          "ename": "TypeError",
          "evalue": "ignored",
          "traceback": [
            "\u001b[0;31m---------------------------------------------------------------------------\u001b[0m",
            "\u001b[0;31mTypeError\u001b[0m                                 Traceback (most recent call last)",
            "\u001b[0;32m<ipython-input-25-1239f4aa1fa4>\u001b[0m in \u001b[0;36m<cell line: 3>\u001b[0;34m()\u001b[0m\n\u001b[1;32m      1\u001b[0m \u001b[0ma\u001b[0m\u001b[0;34m=\u001b[0m\u001b[0;36m2\u001b[0m\u001b[0;34m\u001b[0m\u001b[0;34m\u001b[0m\u001b[0m\n\u001b[1;32m      2\u001b[0m \u001b[0mb\u001b[0m\u001b[0;34m=\u001b[0m\u001b[0;34m\"Shivani\"\u001b[0m\u001b[0;34m\u001b[0m\u001b[0;34m\u001b[0m\u001b[0m\n\u001b[0;32m----> 3\u001b[0;31m \u001b[0mprint\u001b[0m\u001b[0;34m(\u001b[0m\u001b[0ma\u001b[0m\u001b[0;34m+\u001b[0m\u001b[0mb\u001b[0m\u001b[0;34m)\u001b[0m\u001b[0;34m\u001b[0m\u001b[0;34m\u001b[0m\u001b[0m\n\u001b[0m",
            "\u001b[0;31mTypeError\u001b[0m: unsupported operand type(s) for +: 'int' and 'str'"
          ]
        }
      ]
    },
    {
      "cell_type": "code",
      "source": [
        "a=\"2\"\n",
        "b=\"shivani\"\n",
        "c=\"7\"\n",
        "print(a+\" \"+b+\" \"+c)"
      ],
      "metadata": {
        "colab": {
          "base_uri": "https://localhost:8080/"
        },
        "id": "6ppgicP182Vv",
        "outputId": "01c459f3-98d3-4809-fe84-44fd8d6c864f"
      },
      "execution_count": null,
      "outputs": [
        {
          "output_type": "stream",
          "name": "stdout",
          "text": [
            "2 shivani 7\n"
          ]
        }
      ]
    },
    {
      "cell_type": "code",
      "source": [
        "a=b=c=5\n",
        "print(a,b,c)"
      ],
      "metadata": {
        "colab": {
          "base_uri": "https://localhost:8080/"
        },
        "id": "6qSOk9RY82lW",
        "outputId": "8e89b827-cc81-4e60-aef6-fb6c7858d214"
      },
      "execution_count": null,
      "outputs": [
        {
          "output_type": "stream",
          "name": "stdout",
          "text": [
            "5 5 5\n"
          ]
        }
      ]
    },
    {
      "cell_type": "markdown",
      "source": [
        "# USER INPUT"
      ],
      "metadata": {
        "id": "-eo997CQN-5q"
      }
    },
    {
      "cell_type": "code",
      "source": [
        "a=input(\"Enter your name: \")\n",
        "b=input(\"Enter your surname: \")\n",
        "print(a,\"\",b)"
      ],
      "metadata": {
        "colab": {
          "base_uri": "https://localhost:8080/"
        },
        "id": "8CGNuDFCNrB4",
        "outputId": "9796ce2b-efaa-49f5-f6a1-d8659ccff76a"
      },
      "execution_count": 1,
      "outputs": [
        {
          "output_type": "stream",
          "name": "stdout",
          "text": [
            "Enter your nameyash\n",
            "Enter your surnamedashore\n",
            "yash   dashore\n"
          ]
        }
      ]
    },
    {
      "cell_type": "code",
      "source": [
        "a=input(\"Enter a number: \")\n",
        "b=input(\"Enter a number: \")\n",
        "print(a+b)"
      ],
      "metadata": {
        "colab": {
          "base_uri": "https://localhost:8080/"
        },
        "id": "sdXuiE_yNrGh",
        "outputId": "bd9e59e4-3362-45ea-8b66-a3f5e0f7c6c3"
      },
      "execution_count": 2,
      "outputs": [
        {
          "output_type": "stream",
          "name": "stdout",
          "text": [
            "Enter your name: 5\n",
            "Enter your surname: 2\n",
            "52\n"
          ]
        }
      ]
    },
    {
      "cell_type": "markdown",
      "source": [
        "# TYPE CONVERSION IN PYTHON\n",
        "* Implicit -- In implicit type conversion of datatype in python ,the python interpreter automatically convert one datatype to other datatype without any user involvement"
      ],
      "metadata": {
        "id": "zYxEi2CYPI0w"
      }
    },
    {
      "cell_type": "code",
      "source": [
        "x=10\n",
        "print(\"x is a type :\",type(x))\n",
        "\n",
        "y=10.7\n",
        "print(\"y is a type :\",type(y))\n",
        "\n",
        "result=x+y\n",
        "print(result)\n",
        "print(type(result))"
      ],
      "metadata": {
        "colab": {
          "base_uri": "https://localhost:8080/"
        },
        "id": "kgtnKBZ9NrPq",
        "outputId": "952808b5-a05c-4e97-f3a3-4443bc4a2cf9"
      },
      "execution_count": 4,
      "outputs": [
        {
          "output_type": "stream",
          "name": "stdout",
          "text": [
            "x is a type : <class 'int'>\n",
            "y is a type : <class 'float'>\n",
            "20.7\n",
            "<class 'float'>\n"
          ]
        }
      ]
    },
    {
      "cell_type": "markdown",
      "source": [
        "* Explicit -- In explicit type conversion of datatype in python ,the datatype is manually change by the user as per their requirement."
      ],
      "metadata": {
        "id": "iAq37DzuQtHG"
      }
    },
    {
      "cell_type": "code",
      "source": [
        "a=int(input(\"Enter a number: \"))\n",
        "b=int(input(\"Enter a number: \"))\n",
        "print(a+b)"
      ],
      "metadata": {
        "colab": {
          "base_uri": "https://localhost:8080/"
        },
        "id": "wTyBIsnVNrUE",
        "outputId": "e1dbf299-68b5-40cc-f7e8-d170169d3039"
      },
      "execution_count": 6,
      "outputs": [
        {
          "output_type": "stream",
          "name": "stdout",
          "text": [
            "Enter a number: 3\n",
            "Enter a number: 2\n",
            "5\n"
          ]
        }
      ]
    },
    {
      "cell_type": "code",
      "source": [
        "a=5\n",
        "b=str(a) #explicit conversion\n",
        "print(b)\n",
        "print(type(a))\n",
        "print(type(b))"
      ],
      "metadata": {
        "colab": {
          "base_uri": "https://localhost:8080/"
        },
        "id": "LiSUprANNrYZ",
        "outputId": "26e0a92b-6b75-4247-81fd-d27e7aaf2bd9"
      },
      "execution_count": 8,
      "outputs": [
        {
          "output_type": "stream",
          "name": "stdout",
          "text": [
            "5\n",
            "<class 'int'>\n",
            "<class 'str'>\n"
          ]
        }
      ]
    },
    {
      "cell_type": "code",
      "source": [
        "a=5.4\n",
        "b=str(a) #explicit conversion\n",
        "print(b)\n",
        "print(type(a))\n",
        "print(type(b))"
      ],
      "metadata": {
        "colab": {
          "base_uri": "https://localhost:8080/"
        },
        "id": "hAzl3zGhNrcd",
        "outputId": "5b78741a-bf16-4cef-d02c-1f31b7be5d9f"
      },
      "execution_count": 9,
      "outputs": [
        {
          "output_type": "stream",
          "name": "stdout",
          "text": [
            "5.4\n",
            "<class 'float'>\n",
            "<class 'str'>\n"
          ]
        }
      ]
    },
    {
      "cell_type": "code",
      "source": [
        "a=\"Shivi\"\n",
        "b=int(a) #explicit conversion\n",
        "print(b)\n",
        "print(type(a))\n",
        "print(type(b))"
      ],
      "metadata": {
        "colab": {
          "base_uri": "https://localhost:8080/",
          "height": 244
        },
        "id": "f1W96mSYNrgo",
        "outputId": "8202d90c-df0d-4b4b-c872-d96b29edb9e8"
      },
      "execution_count": 10,
      "outputs": [
        {
          "output_type": "error",
          "ename": "ValueError",
          "evalue": "ignored",
          "traceback": [
            "\u001b[0;31m---------------------------------------------------------------------------\u001b[0m",
            "\u001b[0;31mValueError\u001b[0m                                Traceback (most recent call last)",
            "\u001b[0;32m<ipython-input-10-e8c70fea9754>\u001b[0m in \u001b[0;36m<cell line: 2>\u001b[0;34m()\u001b[0m\n\u001b[1;32m      1\u001b[0m \u001b[0ma\u001b[0m\u001b[0;34m=\u001b[0m\u001b[0;34m\"Shivi\"\u001b[0m\u001b[0;34m\u001b[0m\u001b[0;34m\u001b[0m\u001b[0m\n\u001b[0;32m----> 2\u001b[0;31m \u001b[0mb\u001b[0m\u001b[0;34m=\u001b[0m\u001b[0mint\u001b[0m\u001b[0;34m(\u001b[0m\u001b[0ma\u001b[0m\u001b[0;34m)\u001b[0m \u001b[0;31m#explicit conversion\u001b[0m\u001b[0;34m\u001b[0m\u001b[0;34m\u001b[0m\u001b[0m\n\u001b[0m\u001b[1;32m      3\u001b[0m \u001b[0mprint\u001b[0m\u001b[0;34m(\u001b[0m\u001b[0mb\u001b[0m\u001b[0;34m)\u001b[0m\u001b[0;34m\u001b[0m\u001b[0;34m\u001b[0m\u001b[0m\n\u001b[1;32m      4\u001b[0m \u001b[0mprint\u001b[0m\u001b[0;34m(\u001b[0m\u001b[0mtype\u001b[0m\u001b[0;34m(\u001b[0m\u001b[0ma\u001b[0m\u001b[0;34m)\u001b[0m\u001b[0;34m)\u001b[0m\u001b[0;34m\u001b[0m\u001b[0;34m\u001b[0m\u001b[0m\n\u001b[1;32m      5\u001b[0m \u001b[0mprint\u001b[0m\u001b[0;34m(\u001b[0m\u001b[0mtype\u001b[0m\u001b[0;34m(\u001b[0m\u001b[0mb\u001b[0m\u001b[0;34m)\u001b[0m\u001b[0;34m)\u001b[0m\u001b[0;34m\u001b[0m\u001b[0;34m\u001b[0m\u001b[0m\n",
            "\u001b[0;31mValueError\u001b[0m: invalid literal for int() with base 10: 'Shivi'"
          ]
        }
      ]
    },
    {
      "cell_type": "code",
      "source": [
        "a=\"10\"\n",
        "b=int(a) #explicit conversion\n",
        "print(b)\n",
        "print(type(a))\n",
        "print(type(b))"
      ],
      "metadata": {
        "colab": {
          "base_uri": "https://localhost:8080/"
        },
        "id": "0BBRVX-XNrkG",
        "outputId": "32877465-9086-4254-c7bf-93f6f82bc837"
      },
      "execution_count": 11,
      "outputs": [
        {
          "output_type": "stream",
          "name": "stdout",
          "text": [
            "10\n",
            "<class 'str'>\n",
            "<class 'int'>\n"
          ]
        }
      ]
    },
    {
      "cell_type": "code",
      "source": [
        "a='52'\n",
        "b=int(a)\n",
        "print(type(a),type(b))"
      ],
      "metadata": {
        "colab": {
          "base_uri": "https://localhost:8080/"
        },
        "id": "mJouJg1vTX1K",
        "outputId": "5967923e-4e42-4c98-837a-6bcf131049c4"
      },
      "execution_count": 12,
      "outputs": [
        {
          "output_type": "stream",
          "name": "stdout",
          "text": [
            "<class 'str'> <class 'int'>\n"
          ]
        }
      ]
    },
    {
      "cell_type": "markdown",
      "source": [
        "# Operators in Python\n",
        "\n",
        "* Arithmetic operator -- +, -, *,/,%\n",
        "* Relational operator -- <,>,<=,>=,!=\n",
        "* Logical operator    -- AND,OR,NOT\n",
        "* Bitwise operator    -- &,|,^\n",
        "* Assignment operator -- =\n",
        "* Membership operator -- IN,NOT IN"
      ],
      "metadata": {
        "id": "RZ10DEpoUNvc"
      }
    },
    {
      "cell_type": "code",
      "source": [
        "a=1+2*3/4.0\n",
        "print(a)"
      ],
      "metadata": {
        "colab": {
          "base_uri": "https://localhost:8080/"
        },
        "id": "V3VAbj3TTX4n",
        "outputId": "33b11f50-cc9e-4121-b76c-b2abd97a91f8"
      },
      "execution_count": 14,
      "outputs": [
        {
          "output_type": "stream",
          "name": "stdout",
          "text": [
            "2.5\n"
          ]
        }
      ]
    },
    {
      "cell_type": "markdown",
      "source": [
        "1. (),[],-left to right ,\n",
        "2. *,/,% -left to right,\n",
        "3. +,- -- left to right,\n",
        "4. <,>,<=,>= -- left to right\n",
        "5. ==,!= -- left to right\n",
        "6. & -- left to right\n",
        "7. ^ -- left to right\n",
        "8. | -- left to right\n",
        "9. && -- left to right\n",
        "10. +=,-=,*=,= -right to left\n",
        "11. ,"
      ],
      "metadata": {
        "id": "vv4lBm1BWYpz"
      }
    },
    {
      "cell_type": "code",
      "source": [
        "b=5/2+3*2/4*(1+2/(6-4))\n",
        "print(b)"
      ],
      "metadata": {
        "colab": {
          "base_uri": "https://localhost:8080/"
        },
        "id": "axuPwymXTX8M",
        "outputId": "4bb8495b-9fcd-4c37-e953-da77c48fc44a"
      },
      "execution_count": 16,
      "outputs": [
        {
          "output_type": "stream",
          "name": "stdout",
          "text": [
            "5.5\n"
          ]
        }
      ]
    },
    {
      "cell_type": "code",
      "source": [
        "(1+2/2)\n",
        "2"
      ],
      "metadata": {
        "id": "yr4k0E4oTYG6"
      },
      "execution_count": null,
      "outputs": []
    },
    {
      "cell_type": "code",
      "source": [
        "b=5/2+3*2/4*2\n",
        "2.5+6/4*2\n",
        "2.5+1.5*2\n",
        "2.5+3.0\n",
        "5.5"
      ],
      "metadata": {
        "id": "b7y0qjDITYJu"
      },
      "execution_count": null,
      "outputs": []
    },
    {
      "cell_type": "code",
      "source": [
        "b=5/2+3*2/4*2\n",
        "2.5+6/(4*2)\n",
        "2.5+6/8\n",
        "2.5+0.75\n",
        "3.25"
      ],
      "metadata": {
        "id": "WU9875xoa78T"
      },
      "execution_count": null,
      "outputs": []
    },
    {
      "cell_type": "code",
      "source": [
        "c=3*2+(10-4*2)/2-1*3*2/2+(2-1)\n",
        "print(c)"
      ],
      "metadata": {
        "colab": {
          "base_uri": "https://localhost:8080/"
        },
        "id": "p2oSypShbYNG",
        "outputId": "c52f882a-8325-4f37-dffd-1e40a49d53a2"
      },
      "execution_count": 17,
      "outputs": [
        {
          "output_type": "stream",
          "name": "stdout",
          "text": [
            "5.0\n"
          ]
        }
      ]
    },
    {
      "cell_type": "code",
      "source": [
        "c=3*2+(10-4*2)/2-1*3*2/2+(2-1)\n",
        "3*2+2/2-1*3*2/2+1\n",
        "6+1-3+1\n",
        "4+1\n",
        "5"
      ],
      "metadata": {
        "id": "j54h5pxEbYZD"
      },
      "execution_count": null,
      "outputs": []
    },
    {
      "cell_type": "markdown",
      "source": [
        "# Relational Operators"
      ],
      "metadata": {
        "id": "RCepY55udYPb"
      }
    },
    {
      "cell_type": "code",
      "source": [
        "a=10\n",
        "b=5\n",
        "print(a<=b)\n",
        "print(a>=b)\n",
        "print(b<=a)\n",
        "print(b>=a)\n",
        "print(a<b)\n",
        "print(a>b)\n",
        "print(b<a)\n",
        "print(b>a)"
      ],
      "metadata": {
        "colab": {
          "base_uri": "https://localhost:8080/"
        },
        "id": "jH4YCKUtdfVp",
        "outputId": "3540b74b-9632-400d-a747-7edcc7e23d11"
      },
      "execution_count": 19,
      "outputs": [
        {
          "output_type": "stream",
          "name": "stdout",
          "text": [
            "False\n",
            "True\n",
            "True\n",
            "False\n",
            "False\n",
            "True\n",
            "True\n",
            "False\n"
          ]
        }
      ]
    },
    {
      "cell_type": "markdown",
      "source": [
        "# Logical Operator"
      ],
      "metadata": {
        "id": "0b37ikWAeBLh"
      }
    },
    {
      "cell_type": "code",
      "source": [
        "print(5<2 and 2>1)"
      ],
      "metadata": {
        "colab": {
          "base_uri": "https://localhost:8080/"
        },
        "id": "18Gl2OPYdetw",
        "outputId": "7ecf14c4-8aec-4bc9-e2ea-6e984b559b9a"
      },
      "execution_count": 22,
      "outputs": [
        {
          "output_type": "stream",
          "name": "stdout",
          "text": [
            "False\n"
          ]
        }
      ]
    },
    {
      "cell_type": "code",
      "source": [
        "print(5>2 and 2>1)"
      ],
      "metadata": {
        "colab": {
          "base_uri": "https://localhost:8080/"
        },
        "id": "-YEc9uoVdewv",
        "outputId": "8e5c3dba-032e-40a5-81c6-79674a08812f"
      },
      "execution_count": 23,
      "outputs": [
        {
          "output_type": "stream",
          "name": "stdout",
          "text": [
            "True\n"
          ]
        }
      ]
    },
    {
      "cell_type": "code",
      "source": [
        "print(5<2 or 2>1)"
      ],
      "metadata": {
        "colab": {
          "base_uri": "https://localhost:8080/"
        },
        "id": "v4XTZygMdezq",
        "outputId": "e58c7f59-843a-4ede-f1c2-db3224e565a0"
      },
      "execution_count": 24,
      "outputs": [
        {
          "output_type": "stream",
          "name": "stdout",
          "text": [
            "True\n"
          ]
        }
      ]
    },
    {
      "cell_type": "code",
      "source": [
        "print(5>2 or 2>1)"
      ],
      "metadata": {
        "colab": {
          "base_uri": "https://localhost:8080/"
        },
        "id": "p4CFWnSBffzU",
        "outputId": "89254382-dc17-4158-8195-1c2a96a3a8ee"
      },
      "execution_count": 25,
      "outputs": [
        {
          "output_type": "stream",
          "name": "stdout",
          "text": [
            "True\n"
          ]
        }
      ]
    },
    {
      "cell_type": "code",
      "source": [
        "print(not(5<2 or 2>1))"
      ],
      "metadata": {
        "colab": {
          "base_uri": "https://localhost:8080/"
        },
        "id": "Il7ExBFKff3g",
        "outputId": "379bedbf-9563-4d66-9058-e089501bce5c"
      },
      "execution_count": 27,
      "outputs": [
        {
          "output_type": "stream",
          "name": "stdout",
          "text": [
            "False\n"
          ]
        }
      ]
    },
    {
      "cell_type": "markdown",
      "source": [
        "# Bitwise operator"
      ],
      "metadata": {
        "id": "HVdLZQpNiUfq"
      }
    },
    {
      "cell_type": "code",
      "source": [
        "print(2 & 3)"
      ],
      "metadata": {
        "colab": {
          "base_uri": "https://localhost:8080/"
        },
        "id": "nnvnqEWHiTzH",
        "outputId": "40289119-0ace-49b2-eda6-9f1d3975a6d9"
      },
      "execution_count": 28,
      "outputs": [
        {
          "output_type": "stream",
          "name": "stdout",
          "text": [
            "2\n"
          ]
        }
      ]
    },
    {
      "cell_type": "code",
      "source": [
        "print(5|7)"
      ],
      "metadata": {
        "colab": {
          "base_uri": "https://localhost:8080/"
        },
        "id": "ZgADaBXfkQsa",
        "outputId": "3b497128-59fe-44ff-a077-2681a6804fa7"
      },
      "execution_count": 29,
      "outputs": [
        {
          "output_type": "stream",
          "name": "stdout",
          "text": [
            "7\n"
          ]
        }
      ]
    },
    {
      "cell_type": "code",
      "source": [
        "print(5^1)"
      ],
      "metadata": {
        "colab": {
          "base_uri": "https://localhost:8080/"
        },
        "id": "cAczOGOPl9YE",
        "outputId": "ab118111-baac-40f1-f132-24f36e23c2c7"
      },
      "execution_count": 30,
      "outputs": [
        {
          "output_type": "stream",
          "name": "stdout",
          "text": [
            "4\n"
          ]
        }
      ]
    },
    {
      "cell_type": "markdown",
      "source": [
        "# Assignment Operator"
      ],
      "metadata": {
        "id": "xc5p_-qXmXfk"
      }
    },
    {
      "cell_type": "code",
      "source": [
        "a=2\n",
        "a+=5\n",
        "print(a)"
      ],
      "metadata": {
        "colab": {
          "base_uri": "https://localhost:8080/"
        },
        "id": "sQX-lcX8mdkc",
        "outputId": "a5c4b224-2eac-4f7c-daa8-bcf020252e96"
      },
      "execution_count": 32,
      "outputs": [
        {
          "output_type": "stream",
          "name": "stdout",
          "text": [
            "7\n"
          ]
        }
      ]
    },
    {
      "cell_type": "markdown",
      "source": [
        "# Membership Operator"
      ],
      "metadata": {
        "id": "pglYhdC2m_xI"
      }
    },
    {
      "cell_type": "code",
      "source": [
        "print(\"D\" not in \"Delhi\" )"
      ],
      "metadata": {
        "colab": {
          "base_uri": "https://localhost:8080/"
        },
        "id": "Hp17x1ymnEiH",
        "outputId": "a0e40141-3e98-4c7d-8dd6-c0c3b46a39ea"
      },
      "execution_count": 34,
      "outputs": [
        {
          "output_type": "stream",
          "name": "stdout",
          "text": [
            "False\n"
          ]
        }
      ]
    },
    {
      "cell_type": "code",
      "source": [
        "print(\"s\" in \"Shivani\")"
      ],
      "metadata": {
        "colab": {
          "base_uri": "https://localhost:8080/"
        },
        "id": "AX3CsT6BnEtv",
        "outputId": "4ecc692a-39c9-4293-9a72-7ab8e48bc34b"
      },
      "execution_count": 35,
      "outputs": [
        {
          "output_type": "stream",
          "name": "stdout",
          "text": [
            "False\n"
          ]
        }
      ]
    },
    {
      "cell_type": "markdown",
      "source": [
        "# Questions"
      ],
      "metadata": {
        "id": "xO4UDRrFnfft"
      }
    },
    {
      "cell_type": "code",
      "source": [
        "print(5>9 or (1<2 or 6>4 and 5>8))"
      ],
      "metadata": {
        "colab": {
          "base_uri": "https://localhost:8080/"
        },
        "id": "N7y3-CTonExh",
        "outputId": "05c2b019-380e-4bed-daa2-3d174b3357a3"
      },
      "execution_count": 36,
      "outputs": [
        {
          "output_type": "stream",
          "name": "stdout",
          "text": [
            "True\n"
          ]
        }
      ]
    },
    {
      "cell_type": "code",
      "source": [
        "print(1<2 or 6>4 and 5>8)"
      ],
      "metadata": {
        "colab": {
          "base_uri": "https://localhost:8080/"
        },
        "id": "Q-Awl9yJoljN",
        "outputId": "98a98556-49ac-4b27-a0f4-845a08a03074"
      },
      "execution_count": 41,
      "outputs": [
        {
          "output_type": "stream",
          "name": "stdout",
          "text": [
            "True\n"
          ]
        }
      ]
    },
    {
      "cell_type": "code",
      "source": [
        "print(6<4 and(1>5 or(5>2 and 6>4 or (1>5))))"
      ],
      "metadata": {
        "colab": {
          "base_uri": "https://localhost:8080/"
        },
        "id": "S4NDqOOjpn7W",
        "outputId": "136b2a6d-9040-4110-ddb6-5461d065f97d"
      },
      "execution_count": 42,
      "outputs": [
        {
          "output_type": "stream",
          "name": "stdout",
          "text": [
            "False\n"
          ]
        }
      ]
    },
    {
      "cell_type": "code",
      "source": [
        "print(True or 1 and (0 or True or (False)))"
      ],
      "metadata": {
        "colab": {
          "base_uri": "https://localhost:8080/"
        },
        "id": "PFD43vEhpoMp",
        "outputId": "33c8de70-c978-487e-b834-6de5ac1e0c9c"
      },
      "execution_count": 43,
      "outputs": [
        {
          "output_type": "stream",
          "name": "stdout",
          "text": [
            "True\n"
          ]
        }
      ]
    }
  ]
}