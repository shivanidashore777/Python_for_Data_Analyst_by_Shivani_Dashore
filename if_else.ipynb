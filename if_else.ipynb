{
  "nbformat": 4,
  "nbformat_minor": 0,
  "metadata": {
    "colab": {
      "provenance": []
    },
    "kernelspec": {
      "name": "python3",
      "display_name": "Python 3"
    },
    "language_info": {
      "name": "python"
    }
  },
  "cells": [
    {
      "cell_type": "markdown",
      "source": [
        "# IF -ELSE Condition"
      ],
      "metadata": {
        "id": "fCKRS0yhywDW"
      }
    },
    {
      "cell_type": "code",
      "source": [
        "first1=int(input(\"Enter first number\"))\n",
        "sec2=int(input(\"Enter second number\"))\n",
        "third=int(input(\"Enter third number\"))\n",
        "\n",
        "if first1<sec2 and first1<third:\n",
        "  print(first1,\"is the smallest number\")\n",
        "elif sec2<first1 and sec2<third:\n",
        "  print(sec2,\"is the smallest number\")\n",
        "else:\n",
        "  print(third,\"is the smallest number\")"
      ],
      "metadata": {
        "colab": {
          "base_uri": "https://localhost:8080/"
        },
        "id": "RyfcJKg2y3qQ",
        "outputId": "a7e7ae97-0e11-42b5-c171-ac63fe07ff07"
      },
      "execution_count": null,
      "outputs": [
        {
          "output_type": "stream",
          "name": "stdout",
          "text": [
            "Enter first number15\n",
            "Enter second number20\n",
            "Enter third number290\n",
            "15 is the smallest number\n"
          ]
        }
      ]
    },
    {
      "cell_type": "code",
      "source": [
        "# Write a program to check whether a person is eligible for voting or not\n",
        "a=int(input(\"enter your age\"))\n",
        "\n",
        "if a>=18:\n",
        "  print(\"you are eligible for voting\")\n",
        "else:\n",
        "  print(\"you are not eligible,your age is below 18\")"
      ],
      "metadata": {
        "colab": {
          "base_uri": "https://localhost:8080/"
        },
        "id": "H3l0-xvg1MLp",
        "outputId": "a4260d3a-983f-472b-f498-4ffb34d4432d"
      },
      "execution_count": null,
      "outputs": [
        {
          "output_type": "stream",
          "name": "stdout",
          "text": [
            "enter your age10\n",
            "you are not eligible,your age is below 18\n"
          ]
        }
      ]
    },
    {
      "cell_type": "code",
      "source": [
        "#Write a program to check whether a number is even or odd\n",
        "num = int(input(\"Enter a number\"))\n",
        "\n",
        "if num%2==0:\n",
        "  print(num,\"is a even number\")\n",
        "else:\n",
        "  print(num,\"is a odd number\")"
      ],
      "metadata": {
        "colab": {
          "base_uri": "https://localhost:8080/"
        },
        "id": "SR0F8WwQ12hw",
        "outputId": "a67b6fc8-8ae1-4781-8c8f-be1edcbe19b9"
      },
      "execution_count": null,
      "outputs": [
        {
          "output_type": "stream",
          "name": "stdout",
          "text": [
            "Enter a number5\n",
            "5 is a odd number\n"
          ]
        }
      ]
    },
    {
      "cell_type": "code",
      "source": [
        "# Write a program to check whether a number is divisible by 7 or not\n",
        "num=int(input(\"Enter a number\"))\n",
        "\n",
        "if num%7==0:\n",
        "  print(num,\"is divisible by 7\")\n",
        "else:\n",
        "  print(num,\"not divisible by 7\")"
      ],
      "metadata": {
        "colab": {
          "base_uri": "https://localhost:8080/"
        },
        "id": "5EkU23_912ku",
        "outputId": "b9313256-8760-4de2-c511-e67bb0048480"
      },
      "execution_count": null,
      "outputs": [
        {
          "output_type": "stream",
          "name": "stdout",
          "text": [
            "Enter a number49\n",
            "49 is divisible by 7\n"
          ]
        }
      ]
    },
    {
      "cell_type": "code",
      "source": [
        "# Write a program to display hello if a number is a multiple of 5 otherwise bye\n",
        "num=int(input(\"Enter a number\"))\n",
        "\n",
        "if num%5==0:\n",
        "  print(num,\"is multiple of 5\")\n",
        "else:\n",
        "  print(num,\"not multiple of 5\")"
      ],
      "metadata": {
        "colab": {
          "base_uri": "https://localhost:8080/"
        },
        "id": "nVjX-0a512p4",
        "outputId": "a8a0c797-4a52-4b2b-eabb-84a54df09ba0"
      },
      "execution_count": null,
      "outputs": [
        {
          "output_type": "stream",
          "name": "stdout",
          "text": [
            "Enter a number74\n",
            "74 not multiple of 5\n"
          ]
        }
      ]
    },
    {
      "cell_type": "code",
      "source": [
        "unit=int(input(\"Enter your unit\"))\n",
        "amount=0\n",
        "\n",
        "\n",
        "if unit<=100:\n",
        "  print(amount)\n",
        "elif unit>100 and unit<=200:\n",
        "  amount=(unit-100)*5\n",
        "  print(amount)\n",
        "elif unit>200:\n",
        "  amount=500+(unit-200)*10\n",
        "  print(amount)"
      ],
      "metadata": {
        "colab": {
          "base_uri": "https://localhost:8080/"
        },
        "id": "gepfDCDa12sm",
        "outputId": "f16330fa-e312-4242-9cba-cd66909da1a7"
      },
      "execution_count": null,
      "outputs": [
        {
          "output_type": "stream",
          "name": "stdout",
          "text": [
            "Enter your unit30\n",
            "0\n"
          ]
        }
      ]
    },
    {
      "cell_type": "code",
      "source": [
        "cost=int(input(\"input your prize\"))\n",
        "\n",
        "if cost>100000:\n",
        "  x=cost*(15/100)\n",
        "  print(x)\n",
        "elif cost>50000 and cost<=100000:\n",
        "  x=cost*(10/100)\n",
        "  print(x)\n",
        "elif cost<=50000:\n",
        "  x=5/100*cost\n",
        "  print(x)\n"
      ],
      "metadata": {
        "colab": {
          "base_uri": "https://localhost:8080/"
        },
        "id": "SSSs-dCi12vX",
        "outputId": "00fc933c-49ce-4185-9b24-83118b6bce30"
      },
      "execution_count": null,
      "outputs": [
        {
          "output_type": "stream",
          "name": "stdout",
          "text": [
            "input your prize5000000\n",
            "750000.0\n"
          ]
        }
      ]
    },
    {
      "cell_type": "code",
      "source": [
        "# Write a program to check whether s number (accepted from user) is positive or negative\n",
        "num=int(input(\"Ehter your number\"))\n",
        "\n",
        "if num<0:\n",
        "  print(num,\"entered number is negative\")\n",
        "else:\n",
        "  print(num,\"entered number is positive\")"
      ],
      "metadata": {
        "id": "DobkvRxo120Y",
        "colab": {
          "base_uri": "https://localhost:8080/"
        },
        "outputId": "2c05ddcc-0f01-4ab8-db9c-4bed76cc8984"
      },
      "execution_count": 1,
      "outputs": [
        {
          "output_type": "stream",
          "name": "stdout",
          "text": [
            "Ehter your number-1\n",
            "-1 entered number is negative\n"
          ]
        }
      ]
    },
    {
      "cell_type": "markdown",
      "source": [
        "Que- Write a program to accept percentage from the user and display the grade according to the following criteria\n",
        "grade marks\n",
        "* A   >90\n",
        "* B >80 and <=90\n",
        "* c >=60 and <=80\n",
        "* d below 60\n"
      ],
      "metadata": {
        "id": "Sh0txFNLzSGw"
      }
    },
    {
      "cell_type": "code",
      "source": [
        "percentage=int(input(\"Enter your percentage without % sign\"))\n",
        "\n",
        "if percentage>90:\n",
        "  print(\"you got A grade\")\n",
        "elif percentage>80 and percentage<=90:\n",
        "  print(\"you got B grade\")\n",
        "elif percentage>=60 and percentage<=80:\n",
        "  print(\"you got Cs grade\")\n",
        "else:\n",
        "  print(\"you got D grade\")"
      ],
      "metadata": {
        "colab": {
          "base_uri": "https://localhost:8080/"
        },
        "id": "5WuIzx7BylhF",
        "outputId": "ba7e5980-0876-4c9d-99b2-0b3411c66d67"
      },
      "execution_count": 2,
      "outputs": [
        {
          "output_type": "stream",
          "name": "stdout",
          "text": [
            "Enter your percentage without % sign80\n",
            "you got C grade\n"
          ]
        }
      ]
    },
    {
      "cell_type": "markdown",
      "source": [
        "Que - Write a  program to check a character is vowel or not"
      ],
      "metadata": {
        "id": "EFIfIGKFmxmV"
      }
    },
    {
      "cell_type": "code",
      "source": [
        "alpha=input(\"enter a vowel \")\n",
        "\n",
        "if alpha not in ('a','e','i','o','u','A','E','I','O','U'):\n",
        "  print(\"alphabet is consonant\")\n",
        "else:\n",
        "  print(\"alphabet is vowel\")"
      ],
      "metadata": {
        "colab": {
          "base_uri": "https://localhost:8080/"
        },
        "id": "dJQSOBCTmD2X",
        "outputId": "7bf35354-8f0c-4c3b-f7dc-fcce2c43038b"
      },
      "execution_count": 1,
      "outputs": [
        {
          "output_type": "stream",
          "name": "stdout",
          "text": [
            "enter a vowel a\n",
            "alphabet is vowel\n"
          ]
        }
      ]
    },
    {
      "cell_type": "markdown",
      "source": [
        "Que Write a program to check whether a number entered is three digit number or not"
      ],
      "metadata": {
        "id": "jVD9RMUNnp91"
      }
    },
    {
      "cell_type": "code",
      "source": [
        "num=input(\"Enter a three digit number\")\n",
        "\n",
        "if len(num)==3:\n",
        "  print(\"Entered number is 3 digit\")\n",
        "else:\n",
        "  print(\"entered number is not 3 digit number\")"
      ],
      "metadata": {
        "colab": {
          "base_uri": "https://localhost:8080/"
        },
        "id": "wgUvea8JmD_b",
        "outputId": "ff5e50fd-8bb6-44b9-b52a-db1af70b2f14"
      },
      "execution_count": 4,
      "outputs": [
        {
          "output_type": "stream",
          "name": "stdout",
          "text": [
            "Enter a three digit number456\n",
            "Entered number is 3 digit\n"
          ]
        }
      ]
    }
  ]
}